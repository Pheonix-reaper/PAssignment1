{
 "cells": [
  {
   "cell_type": "markdown",
   "metadata": {},
   "source": [
    "Q1.1"
   ]
  },
  {
   "cell_type": "code",
   "execution_count": 9,
   "metadata": {},
   "outputs": [
    {
     "name": "stdout",
     "output_type": "stream",
     "text": [
      "14.142135623730951\n"
     ]
    }
   ],
   "source": [
    "class Triangle:\n",
    "    #def __init__(self,a=0,b=0,c=0):\n",
    "       # self.a=a\n",
    "        #self.b=b\n",
    "        #self.c=c\n",
    "    def inputSides(self,a,b,c):\n",
    "        self.a=a\n",
    "        self.b=b\n",
    "        self.c=c\n",
    "\n",
    "class Area(Triangle):\n",
    "    #def __init__(self,a=0,b=0,c=0):\n",
    "      #  super(Area,self).__init__(a,b,c)\n",
    "    def calculateArea(self):\n",
    "        s=(self.a+self.b+self.c)/2\n",
    "        area=(s*(s-self.a)*(s-self.b)*(s-self.c))**0.5\n",
    "        return area\n",
    "T=Area()\n",
    "T.inputSides(5,6,9)\n",
    "print(T.calculateArea())"
   ]
  },
  {
   "cell_type": "markdown",
   "metadata": {},
   "source": [
    "Q1.2"
   ]
  },
  {
   "cell_type": "code",
   "execution_count": 12,
   "metadata": {},
   "outputs": [
    {
     "name": "stdout",
     "output_type": "stream",
     "text": [
      "The number of words greater than 5 are Python\n",
      "Database\n",
      "Processor\n"
     ]
    }
   ],
   "source": [
    "def filter_long_words(words,n):\n",
    "    li=[]\n",
    "    for i in words:\n",
    "        if(len(i)>n):\n",
    "            li.append(i)\n",
    "    return li\n",
    "\n",
    "li=filter_long_words([\"Hello\",\"World\",\"Kevin\",\"Adam\",\"Python\",\"Database\",\"Processor\"],5)\n",
    "print(\"The number of words greater than 5 are {}\".format(\"\\n\".join(li)))"
   ]
  },
  {
   "cell_type": "markdown",
   "metadata": {},
   "source": [
    "Q2.1"
   ]
  },
  {
   "cell_type": "code",
   "execution_count": 13,
   "metadata": {},
   "outputs": [
    {
     "name": "stdout",
     "output_type": "stream",
     "text": [
      "[5, 5, 5, 4, 6, 8, 9]\n"
     ]
    }
   ],
   "source": [
    "def map_list_tolength(words):\n",
    "    li=[len(x) for x in words]\n",
    "    return li\n",
    "li=map_list_tolength([\"Hello\",\"World\",\"Kevin\",\"Adam\",\"Python\",\"Database\",\"Processor\"])\n",
    "print(li)"
   ]
  },
  {
   "cell_type": "markdown",
   "metadata": {},
   "source": [
    "Q2.2"
   ]
  },
  {
   "cell_type": "code",
   "execution_count": 17,
   "metadata": {},
   "outputs": [
    {
     "name": "stdout",
     "output_type": "stream",
     "text": [
      "Enter the character to be checked:Asish\n",
      "only one letter characters are accepted\n"
     ]
    }
   ],
   "source": [
    "def checkForVowel(ch):\n",
    "    if(len(ch)!=1):\n",
    "        print(\"only one letter characters are accepted\")\n",
    "        return -1\n",
    "    li=['a','e','i','o','u','A','E','I','O','U']\n",
    "    if(ch in li):\n",
    "        return True\n",
    "    else:\n",
    "        return False\n",
    "ch=input(\"Enter the character to be checked:\")\n",
    "result=checkForVowel(ch)\n",
    "if(result==-1):\n",
    "    pass\n",
    "elif(result==True):\n",
    "    print(\"It is a Vowel\")\n",
    "else:\n",
    "    print(\"It is not a Vowel\")"
   ]
  },
  {
   "cell_type": "code",
   "execution_count": null,
   "metadata": {},
   "outputs": [],
   "source": []
  }
 ],
 "metadata": {
  "kernelspec": {
   "display_name": "Python 3",
   "language": "python",
   "name": "python3"
  },
  "language_info": {
   "codemirror_mode": {
    "name": "ipython",
    "version": 3
   },
   "file_extension": ".py",
   "mimetype": "text/x-python",
   "name": "python",
   "nbconvert_exporter": "python",
   "pygments_lexer": "ipython3",
   "version": "3.8.3"
  }
 },
 "nbformat": 4,
 "nbformat_minor": 4
}
