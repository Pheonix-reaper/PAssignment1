{
 "cells": [
  {
   "cell_type": "raw",
   "metadata": {},
   "source": [
    "Q1.1"
   ]
  },
  {
   "cell_type": "code",
   "execution_count": 4,
   "metadata": {},
   "outputs": [
    {
     "name": "stdout",
     "output_type": "stream",
     "text": [
      "27\n"
     ]
    }
   ],
   "source": [
    "def myreduce(func,li):\n",
    "    return func(li)\n",
    "def sumList(li):\n",
    "    k=0\n",
    "    for i in li:\n",
    "        k=k+i\n",
    "    return k\n",
    "li=[2,3,4,5,6,7]\n",
    "print(myreduce(sumList,li))"
   ]
  },
  {
   "cell_type": "raw",
   "metadata": {},
   "source": [
    "Q1.2"
   ]
  },
  {
   "cell_type": "code",
   "execution_count": 10,
   "metadata": {},
   "outputs": [
    {
     "name": "stdout",
     "output_type": "stream",
     "text": [
      "<class 'int'>\n",
      "<class 'int'>\n",
      "<class 'int'>\n",
      "<class 'int'>\n",
      "<class 'int'>\n",
      "[2, 4]\n"
     ]
    }
   ],
   "source": [
    "l=[1,2,3,4,5]\n",
    "for  i in l:\n",
    "    print(type(i))\n",
    "def myfilter(li):\n",
    "    k=[]\n",
    "    for i in li:\n",
    "        if(i%2==0):\n",
    "            k.append(i)\n",
    "    return k\n",
    "def isOdd(num):\n",
    "    if()\n",
    "print(myfilter([1,2,3,4,5]))"
   ]
  },
  {
   "cell_type": "code",
   "execution_count": null,
   "metadata": {},
   "outputs": [],
   "source": []
  }
 ],
 "metadata": {
  "kernelspec": {
   "display_name": "Python 3",
   "language": "python",
   "name": "python3"
  },
  "language_info": {
   "codemirror_mode": {
    "name": "ipython",
    "version": 3
   },
   "file_extension": ".py",
   "mimetype": "text/x-python",
   "name": "python",
   "nbconvert_exporter": "python",
   "pygments_lexer": "ipython3",
   "version": "3.8.3"
  }
 },
 "nbformat": 4,
 "nbformat_minor": 4
}
